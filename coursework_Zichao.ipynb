{
 "cells": [
  {
   "cell_type": "code",
   "execution_count": 1,
   "id": "68e4b268",
   "metadata": {
    "ExecuteTime": {
     "end_time": "2024-05-12T02:55:35.434125500Z",
     "start_time": "2024-05-12T02:55:32.522216500Z"
    }
   },
   "outputs": [],
   "source": [
    "from pyspark.sql import SparkSession\n",
    "\n",
    "spark = SparkSession \\\n",
    "    .builder \\\n",
    "    .master(\"local[*]\") \\\n",
    "    .appName(\"FinalCoursework\") \\\n",
    "    .config(\"spark.driver.memory\", \"4g\")\\\n",
    "    .getOrCreate()\n",
    "\n",
    "sc = spark.sparkContext"
   ]
  },
  {
   "cell_type": "code",
   "execution_count": 2,
   "id": "f061c593",
   "metadata": {
    "ExecuteTime": {
     "end_time": "2024-05-12T02:55:40.722851400Z",
     "start_time": "2024-05-12T02:55:35.436080500Z"
    }
   },
   "outputs": [],
   "source": [
    "dir_path=\"/mnt/data/project-data/2020tweets\"\n",
    "\n",
    "df_trump = spark.read.option(\"multiline\", True).csv(\"/hashtag_donaldtrump.csv\", header=True, inferSchema=True)\n",
    "df_biden = spark.read.option(\"multiline\", True).csv(\"/hashtag_joebiden.csv\", header=True, inferSchema=True)"
   ]
  },
  {
   "cell_type": "code",
   "execution_count": 3,
   "id": "28aab010",
   "metadata": {
    "ExecuteTime": {
     "end_time": "2024-05-12T02:55:40.884727100Z",
     "start_time": "2024-05-12T02:55:40.724804900Z"
    }
   },
   "outputs": [],
   "source": [
    "def transer_data_type(data):\n",
    "  data = data.withColumn(\"likes\", data[\"likes\"].cast(\"int\"))\n",
    "  data = data.withColumn(\"retweet_count\", data[\"retweet_count\"].cast(\"int\"))\n",
    "  data = data.withColumn(\"user_followers_count\", data[\"user_followers_count\"].cast(\"int\"))\n",
    "  data = data.withColumn(\"lat\", data[\"lat\"].cast(\"float\"))\n",
    "  data = data.withColumn(\"long\", data[\"long\"].cast(\"float\"))\n",
    "  return data\n",
    "\n",
    "df_trump = transer_data_type(df_trump)\n",
    "df_biden = transer_data_type(df_biden)"
   ]
  },
  {
   "cell_type": "code",
   "execution_count": 4,
   "id": "9a1c0b16",
   "metadata": {
    "ExecuteTime": {
     "end_time": "2024-05-12T02:55:40.986449500Z",
     "start_time": "2024-05-12T02:55:40.885702700Z"
    }
   },
   "outputs": [],
   "source": [
    "#Dropping columns\n",
    "remove_columns = ['created_at', 'tweet_id', 'user_id', 'user_screen_name', 'user_join_date', 'collected_at', 'user_name', 'user_description', 'user_location', 'lat', 'long', 'city', 'country', 'continent', 'state', 'state_code']\n",
    "df_trump = df_trump.drop(*remove_columns)\n",
    "df_biden = df_biden.drop(*remove_columns)\n",
    "\n",
    "#Dropping rows with na values\n",
    "df_trump = df_trump.na.drop()\n",
    "df_biden = df_biden.na.drop()"
   ]
  },
  {
   "cell_type": "code",
   "execution_count": 5,
   "id": "2b91858d",
   "metadata": {
    "ExecuteTime": {
     "end_time": "2024-05-12T02:55:46.644494800Z",
     "start_time": "2024-05-12T02:55:40.988409300Z"
    }
   },
   "outputs": [
    {
     "data": {
      "text/plain": "<Figure size 640x480 with 1 Axes>",
      "image/png": "[encoded data removed]"
     },
     "metadata": {},
     "output_type": "display_data"
    }
   ],
   "source": [
    "import matplotlib.pyplot as plt\n",
    "\n",
    "# Create a bar plot\n",
    "plt.bar(['Trump', 'Biden'], [df_trump.count(), df_biden.count()])\n",
    "plt.xlabel('Candidate')\n",
    "plt.ylabel('Number of Tweets')\n",
    "plt.title('Number of Tweets for Trump and Biden')\n",
    "plt.show()"
   ]
  },
  {
   "cell_type": "code",
   "execution_count": 6,
   "id": "aff130ca",
   "metadata": {
    "ExecuteTime": {
     "end_time": "2024-05-12T02:55:46.682398400Z",
     "start_time": "2024-05-12T02:55:46.644494800Z"
    }
   },
   "outputs": [],
   "source": [
    "from pyspark.sql.functions import lit\n",
    "\n",
    "#Adding a presidents column where 0 represents trump and 1 represents biden. This will turn it into a classification problem\n",
    "df_trump = df_trump.withColumn('President', lit(0))\n",
    "df_biden = df_biden.withColumn('President', lit(1))\n",
    "\n",
    "#Merging the 2 datasets\n",
    "df = df_trump.union(df_biden)"
   ]
  },
  {
   "cell_type": "code",
   "execution_count": 7,
   "id": "4f56edd5",
   "metadata": {
    "ExecuteTime": {
     "end_time": "2024-05-12T02:55:47.449496300Z",
     "start_time": "2024-05-12T02:55:46.683373800Z"
    }
   },
   "outputs": [
    {
     "name": "stdout",
     "output_type": "stream",
     "text": [
      "+--------------------+-----+-------------+------------------+--------------------+---------+\n",
      "|               tweet|likes|retweet_count|            source|user_followers_count|President|\n",
      "+--------------------+-----+-------------+------------------+--------------------+---------+\n",
      "|#Elecciones2020 |...|    0|            0|         TweetDeck|                1860|        0|\n",
      "|Usa 2020, Trump c...|   26|            9|  Social Mediaset |             1067661|        0|\n",
      "|#Trump: As a stud...|    2|            1|   Twitter Web App|                1185|        0|\n",
      "|2 hours since las...|    0|            0|     Trumpytweeter|                  32|        0|\n",
      "|You get a tie! An...|    4|            3|Twitter for iPhone|                5393|        0|\n",
      "+--------------------+-----+-------------+------------------+--------------------+---------+\n"
     ]
    }
   ],
   "source": [
    "df.show(5)"
   ]
  },
  {
   "cell_type": "code",
   "execution_count": 8,
   "id": "655d594d",
   "metadata": {
    "ExecuteTime": {
     "end_time": "2024-05-12T02:55:47.505852400Z",
     "start_time": "2024-05-12T02:55:47.449496300Z"
    }
   },
   "outputs": [],
   "source": [
    "from pyspark.sql.functions import udf\n",
    "from pyspark.sql.types import ArrayType, StringType\n",
    "from collections import Counter\n",
    "import re\n",
    "\n",
    "#Extracts all the hastags from the tweet and stores them in a list\n",
    "@udf(returnType=ArrayType(StringType()))\n",
    "def getHashtagList(tweet):\n",
    "  tweet = tweet.lower()\n",
    "  tweet = re.sub(r'[^\\w\\s#]', '', tweet)\n",
    "  hashtag_list = []\n",
    "\n",
    "  for word in tweet.split():\n",
    "    if word[0] == '#':\n",
    "      hashtag_list.append(word)\n",
    "  \n",
    "  #Creates a dictionary where the hashtags are the key and their frequency in the list is the value\n",
    "  count_hashtags = Counter(hashtag_list)\n",
    "\n",
    "  #Remove duplicate hashtags\n",
    "  unique_hashtags = [hashtag for hashtag, frequency in count_hashtags.items() if frequency == 1]\n",
    "\n",
    "  return hashtag_list\n",
    "\n",
    "#Creates a column called hashtags which stores a hastag list for all the tweets\n",
    "df = df.withColumn('hashtags', getHashtagList(df['tweet']))"
   ]
  },
  {
   "cell_type": "code",
   "execution_count": 9,
   "id": "5896c8ec",
   "metadata": {
    "ExecuteTime": {
     "end_time": "2024-05-12T02:55:48.400648400Z",
     "start_time": "2024-05-12T02:55:47.488272400Z"
    }
   },
   "outputs": [
    {
     "name": "stdout",
     "output_type": "stream",
     "text": [
      "+--------------------+-----+-------------+------------------+--------------------+---------+--------------------+\n",
      "|               tweet|likes|retweet_count|            source|user_followers_count|President|            hashtags|\n",
      "+--------------------+-----+-------------+------------------+--------------------+---------+--------------------+\n",
      "|#Elecciones2020 |...|    0|            0|         TweetDeck|                1860|        0|[#elecciones2020,...|\n",
      "|Usa 2020, Trump c...|   26|            9|  Social Mediaset |             1067661|        0|      [#donaldtrump]|\n",
      "|#Trump: As a stud...|    2|            1|   Twitter Web App|                1185|        0|            [#trump]|\n",
      "|2 hours since las...|    0|            0|     Trumpytweeter|                  32|        0|            [#trump]|\n",
      "|You get a tie! An...|    4|            3|Twitter for iPhone|                5393|        0|     [#trump, #iowa]|\n",
      "+--------------------+-----+-------------+------------------+--------------------+---------+--------------------+\n"
     ]
    }
   ],
   "source": [
    "df.show(5)"
   ]
  },
  {
   "cell_type": "code",
   "execution_count": 10,
   "id": "e78b32cd",
   "metadata": {
    "ExecuteTime": {
     "end_time": "2024-05-12T02:56:06.763802800Z",
     "start_time": "2024-05-12T02:55:48.401624900Z"
    }
   },
   "outputs": [
    {
     "name": "stdout",
     "output_type": "stream",
     "text": [
      "+----------------+------+\n",
      "|hashtag         |counts|\n",
      "+----------------+------+\n",
      "|#trump          |968674|\n",
      "|#biden          |631862|\n",
      "|#joebiden       |335308|\n",
      "|#election2020   |172108|\n",
      "|#donaldtrump    |166046|\n",
      "|#elections2020  |99443 |\n",
      "|#bidenharris2020|78352 |\n",
      "|#trump2020      |74717 |\n",
      "|#vote           |67982 |\n",
      "|#electionday    |64120 |\n",
      "|#usa            |57928 |\n",
      "|#maga           |46019 |\n",
      "|#covid19        |43344 |\n",
      "|#kamalaharris   |41743 |\n",
      "|#electionnight  |37855 |\n",
      "|#biden2020      |35942 |\n",
      "|#uselection2020 |35896 |\n",
      "|#bidenharris    |31423 |\n",
      "|#elecciones2020 |30880 |\n",
      "|#america        |30190 |\n",
      "+----------------+------+\n"
     ]
    }
   ],
   "source": [
    "from pyspark.sql import functions as F\n",
    "from pyspark.sql.functions import count\n",
    "    \n",
    "#Splits the hashtag list and displays each hashtag in its own row in column hashtag\n",
    "df_exploded = df.withColumn('hashtag', F.explode(df['hashtags']))\n",
    "\n",
    "#Analyze hashtag\n",
    "df_hashtag=df_exploded.select('hashtag')\n",
    "\n",
    "# 对name列进行分组，并计算每个分组的行数\n",
    "grouped_df = df_hashtag.groupBy(\"hashtag\").agg(count(\"*\").alias(\"counts\"))\n",
    "# 将计数结果作为新列加入到原始DataFrame中\n",
    "df_hashtag = df_hashtag.join(grouped_df, [\"hashtag\"], \"inner\")\n",
    "# 去除基于name列的重复行\n",
    "df_hashtag = df_hashtag.dropDuplicates([\"hashtag\"])\n",
    "# 按照count列进行降序排序\n",
    "df_hashtag = df_hashtag.orderBy(\"counts\", ascending=False)\n",
    "\n",
    "# 显示排序后的结果\n",
    "df_hashtag.show(truncate=False)\n",
    "\n"
   ]
  },
  {
   "cell_type": "code",
   "execution_count": 11,
   "outputs": [],
   "source": [
    "#分为三类标签 并根据出现次数排序 splite diff type hashtag \n",
    "#1.#trump #donaldtrump #trump2020 #maga \n",
    "trump=['#trump','#donaldtrump','#trump2020''#maga']\n",
    "\n",
    "#2 #biden #joebiden #bidenharris2020 #biden2020 #bidenharris\n",
    "biden=['#biden','#joebiden','#bidenharris2020','#biden2020','#bidenharris']\n",
    "\n",
    "#3 #election2020 #elections2020 #electionnight #vote #electionday #usa #covid19 #electionnight #uselection2020 #america\n",
    "normal=['#election2020','#elections2020','#electionnight','#vote','#electionday','#usa','#covid19','#electionnight','#uselection2020','#america']"
   ],
   "metadata": {
    "collapsed": false,
    "ExecuteTime": {
     "end_time": "2024-05-12T02:56:06.772488600Z",
     "start_time": "2024-05-12T02:56:06.764780400Z"
    }
   },
   "id": "1ac358b4e7865223"
  },
  {
   "cell_type": "code",
   "execution_count": 12,
   "outputs": [],
   "source": [
    "#Creates a new column called count which displays how many rows the hashtag appears in\n",
    "#The counts will be used in TF-IDF calculation\n",
    "df_count = df_exploded.groupBy(\"hashtag\").count()\n",
    "\n",
    "#Renaming count to hashtag_count\n",
    "df_count = df_count.withColumnRenamed('count', 'hashtag_count')\n",
    "\n",
    "#Joining df_count with df_exploded on hashtag\n",
    "df_exploded = df_exploded.join(df_count, on=\"hashtag\", how=\"left\")\n",
    "\n",
    "# Group by original columns and collect list of counts\n",
    "df = df_exploded.groupBy(df.columns).agg(F.collect_list(\"hashtag_count\").alias(\"hashtag_counts\"))"
   ],
   "metadata": {
    "collapsed": false,
    "ExecuteTime": {
     "end_time": "2024-05-12T02:56:06.851195100Z",
     "start_time": "2024-05-12T02:56:06.767605700Z"
    }
   },
   "id": "4e2ddff3fb547a22"
  },
  {
   "cell_type": "code",
   "execution_count": 13,
   "outputs": [
    {
     "name": "stdout",
     "output_type": "stream",
     "text": [
      "+--------------------+-----+-------------+-------------------+--------------------+---------+--------------------+--------------------+\n",
      "|               tweet|likes|retweet_count|             source|user_followers_count|President|            hashtags|      hashtag_counts|\n",
      "+--------------------+-----+-------------+-------------------+--------------------+---------+--------------------+--------------------+\n",
      "| He’s nothing mor...|    0|            0|    Twitter Web App|                  71|        0|            [#trump]|            [968674]|\n",
      "| it shows that #t...|    1|            0|Twitter for Android|                  11|        0|            [#trump]|            [968674]|\n",
      "| media-sourced po...|    0|            0|Twitter for Android|                 657|        0|            [#biden]|            [631862]|\n",
      "| mientras hace ca...|    0|            0| Twitter for iPhone|                  14|        1|[#electionday, #d...|[631862, 78352, 6...|\n",
      "| so Please get a ...|    0|            0|Twitter for Android|                 208|        0|             [#mask]|          [682, 682]|\n",
      "+--------------------+-----+-------------+-------------------+--------------------+---------+--------------------+--------------------+\n"
     ]
    }
   ],
   "source": [
    "df.show(5)"
   ],
   "metadata": {
    "collapsed": false,
    "ExecuteTime": {
     "end_time": "2024-05-12T02:56:35.383997500Z",
     "start_time": "2024-05-12T02:56:06.822770100Z"
    }
   },
   "id": "ee801605359698b3"
  },
  {
   "cell_type": "code",
   "execution_count": 14,
   "id": "181a3996",
   "metadata": {
    "ExecuteTime": {
     "end_time": "2024-05-12T02:56:48.980213100Z",
     "start_time": "2024-05-12T02:56:35.384975600Z"
    }
   },
   "outputs": [
    {
     "name": "stdout",
     "output_type": "stream",
     "text": [
      "1643761\n"
     ]
    }
   ],
   "source": [
    "#Total number of rows\n",
    "#This value is used to calculate TF-IDF\n",
    "df_count = df.count()\n",
    "print(df_count)"
   ]
  },
  {
   "cell_type": "code",
   "execution_count": 15,
   "id": "511cd441",
   "metadata": {
    "ExecuteTime": {
     "end_time": "2024-05-12T02:56:49.036020600Z",
     "start_time": "2024-05-12T02:56:48.982168300Z"
    }
   },
   "outputs": [],
   "source": [
    "from pyspark.sql.types import FloatType\n",
    "import math\n",
    "\n",
    "#Creates the TF_IDF list column\n",
    "@udf(returnType=FloatType())\n",
    "def getAvg_TF_IDF(hashtags, hashtag_counts, df_count):\n",
    "  avg_TF_IDF = 0\n",
    "  count = 0\n",
    "\n",
    "  #If there are no hashtags the tweet will be given a value of 0\n",
    "  if len(hashtags) == 0:\n",
    "    return 0.0\n",
    "\n",
    "  for hashtag in hashtags:\n",
    "      \n",
    "    #Calculating TF\n",
    "    #Since all the hastags are unique 1 is being divided by the total number of hastags\n",
    "    TF = 1 / len(hashtags)\n",
    "    #nDocs is the number of rows/tweets the hastag is used\n",
    "    nDocs = hashtag_counts[count]\n",
    "    #Calculating IDF\n",
    "    #df_count is the total number of rows/tweets\n",
    "    IDF = math.log(df_count / nDocs)\n",
    "\n",
    "    TF_IDF = TF * IDF\n",
    "    \n",
    "    #polarity for hashtag\n",
    "    if hashtag in biden:\n",
    "      TF_IDF=TF_IDF*-1\n",
    "    elif hashtag in trump:\n",
    "      TF_IDF=TF_IDF*1\n",
    "    else:\n",
    "      TF_IDF=0\n",
    "        \n",
    "    avg_TF_IDF += TF_IDF\n",
    "    count += 1\n",
    "\n",
    "  avg_TF_IDF /= count\n",
    "  return avg_TF_IDF\n",
    "\n",
    "# Apply the UDF to your DataFrame\n",
    "df = df.withColumn('TF_IDF', getAvg_TF_IDF(df['hashtags'], df['hashtag_counts'], lit(df_count)))"
   ]
  },
  {
   "cell_type": "code",
   "execution_count": 16,
   "id": "7e3623ff",
   "metadata": {
    "ExecuteTime": {
     "end_time": "2024-05-12T02:57:17.883912600Z",
     "start_time": "2024-05-12T02:56:49.006646500Z"
    }
   },
   "outputs": [
    {
     "name": "stdout",
     "output_type": "stream",
     "text": [
      "+------------------------------------------------------------------------------------------------------------------------------------------------------------------------------------------------------------------------------------------------------------------------------------------------------------+-----+-------------+--------------------+--------------------+---------+---------------------------------------------------------------------------------------------------------------------------------------------------------------------------------------------------------------------------------------------------------------+------------------------------------------------------------------------------------------------------------------------------------+------------+\n",
      "|tweet                                                                                                                                                                                                                                                                                                       |likes|retweet_count|source              |user_followers_count|President|hashtags                                                                                                                                                                                                                                                       |hashtag_counts                                                                                                                      |TF_IDF      |\n",
      "+------------------------------------------------------------------------------------------------------------------------------------------------------------------------------------------------------------------------------------------------------------------------------------------------------------+-----+-------------+--------------------+--------------------+---------+---------------------------------------------------------------------------------------------------------------------------------------------------------------------------------------------------------------------------------------------------------------+------------------------------------------------------------------------------------------------------------------------------------+------------+\n",
      "| He’s nothing more than a PREDATOR. #Trump was actually further to the right on crime than  @JoeBiden ever been in his life\"\". ~ Watch Joy Reid MSNBC\"                                                                                                                                                      |0    |0            |Twitter Web App     |71                  |0        |[#trump]                                                                                                                                                                                                                                                       |[968674]                                                                                                                            |0.5288141   |\n",
      "| it shows that #trump only cares about trump. A lousy president.\"                                                                                                                                                                                                                                           |1    |0            |Twitter for Android |11                  |0        |[#trump]                                                                                                                                                                                                                                                       |[968674]                                                                                                                            |0.5288141   |\n",
      "| media-sourced polling\"\" favor a #Biden win:\"                                                                                                                                                                                                                                                               |0    |0            |Twitter for Android |657                 |0        |[#biden]                                                                                                                                                                                                                                                       |[631862]                                                                                                                            |-0.9560712  |\n",
      "| mientras hace campaña por Joe Biden antes de las elecciones #ElectionDay #Destino2020 #Biden #BidenHarris2020 #VoteBlueToEndTheNightmare #Obama https://t.co/fzNB4vKcnH\"                                                                                                                                   |0    |0            |Twitter for iPhone  |14                  |1        |[#electionday, #destino2020, #biden, #bidenharris2020, #votebluetoendthenightmare, #obama]                                                                                                                                                                     |[631862, 78352, 64120, 164, 13888, 4145]                                                                                            |-0.34601712 |\n",
      "| so Please get a #Mask and wear it!TY\"                                                                                                                                                                                                                                                                      |0    |0            |Twitter for Android |208                 |0        |[#mask]                                                                                                                                                                                                                                                        |[682, 682]                                                                                                                          |0.0         |\n",
      "| soy un #BidenRepublican\"\" #Biden https://t.co/l6yT6R4IH7\"                                                                                                                                                                                                                                                  |117  |61           |Twitter Web App     |14304               |0        |[#bidenrepublican, #biden]                                                                                                                                                                                                                                     |[76, 631862]                                                                                                                        |-0.2390178  |\n",
      "| white suprimacist #Bhakts of #DonaldTrump &amp; #Modi 😅😜🤣😂 https://t.co/tS1cf8QGNX\"                                                                                                                                                                                                                    |1    |0            |Twitter for Android |1480                |0        |[#bhakts, #donaldtrump, #modi]                                                                                                                                                                                                                                 |[1598, 166046, 56]                                                                                                                  |0.2547197   |\n",
      "|!!!  #PICofTheDay :  Thx to my great friend #JasonFaust (#ParaUnity, btw!) --  #tRump #Biden #Harris #SecretService #ovaloffice #president #2020Election #Election2020 #pic #pics #Progressives #DemocraticParty #Dems #GOP #memes #ElectionsHaveConsequences   #USA #EU #UK #Global https://t.co/i0DPHvuPGk|1    |0            |Twitter Web App     |2324                |0        |[#picoftheday, #jasonfaust, #paraunity, #trump, #biden, #harris, #secretservice, #ovaloffice, #president, #2020election, #election2020, #pic, #pics, #progressives, #democraticparty, #dems, #gop, #memes, #electionshaveconsequences, #usa, #eu, #uk, #global]|[68, 172108, 30, 631862, 16, 14868, 410, 968674, 118, 57928, 2, 1073, 216, 17222, 2073, 18412, 2802, 1807, 2, 1920, 134, 281, 13232]|-0.020007255|\n",
      "|!!! breaking: #Biden (98) vs. #Trump (95) (in Jahren)\\n\\n#ElectionNight                                                                                                                                                                                                                                     |0    |0            |Twitter for Android |23                  |1        |[#biden, #trump, #electionnight]                                                                                                                                                                                                                               |[631862, 37855, 968674]                                                                                                             |0.31276754  |\n",
      "|!!!!\\n#PresidentElectJoe #President #PresidentBiden2020 #Biden https://t.co/tUWJgf8OhG                                                                                                                                                                                                                      |0    |0            |Twitter for iPhone  |87                  |1        |[#presidentelectjoe, #president, #presidentbiden2020, #biden]                                                                                                                                                                                                  |[1606, 631862, 10020, 13232]                                                                                                        |-0.3013815  |\n",
      "|!!!!!!!! #BidenHarris2020 #JoeBiden #PresidentElectJoe #USAelection2020 https://t.co/YNxy6ORx9V                                                                                                                                                                                                             |0    |0            |Twitter for Android |0                   |1        |[#bidenharris2020, #joebiden, #presidentelectjoe, #usaelection2020]                                                                                                                                                                                            |[19011, 78352, 10020, 335308]                                                                                                       |-0.46895343 |\n",
      "|!Al infinito y mas allá!\\n#Trump \\n#Biden https://t.co/scBMgcrQhx                                                                                                                                                                                                                                           |80   |14           |Twitter Web App     |6131                |1        |[#trump, #biden]                                                                                                                                                                                                                                               |[631862, 968674]                                                                                                                    |0.10681428  |\n",
      "|\"\"\"#Economy News: #Trump says he built a ‘booming’ economy. Economists say he inherited it. - Houston Chronicle #News\"\": https://t.co/A6CSfnUsDT\"                                                                                                                                                           |1    |0            |RSS Post Syndication|24475               |0        |[#economy, #trump, #news]                                                                                                                                                                                                                                      |[9982, 968674, 2800]                                                                                                                |0.05875712  |\n",
      "|\"\"\"#Economy News: ‘Made in Iran’ Thrives in #Economy #Trump Tried to Crush - Bloomberg #News\"\": https://t.co/lLswRz2b6c\"                                                                                                                                                                                    |0    |0            |RSS Post Syndication|24486               |0        |[#economy, #economy, #trump, #news]                                                                                                                                                                                                                            |[9982, 968674, 2800, 2800]                                                                                                          |0.39844516  |\n",
      "|\"\"\"#POTUS News: #Obama offers blistering criticism of #Trump over coronavirus: 'He's jealous of Covid's media coverage' #News\"\": https://t.co/p2WnrDGSxg\"                                                                                                                                                   |1    |0            |RSS Post Syndication|24480               |0        |[#potus, #obama, #trump, #news]                                                                                                                                                                                                                                |[9982, 968674, 13542, 13888]                                                                                                        |0.29993415  |\n",
      "|\"\"\"#POTUS News: #Trump and Biden teams prep for once-outlandish election standoffs #News\"\": https://t.co/JT3HwJVxcy\"                                                                                                                                                                                        |0    |0            |RSS Post Syndication|24470               |0        |[#potus, #trump, #news]                                                                                                                                                                                                                                        |[9982, 968674, 13542]                                                                                                               |0.05875712  |\n",
      "|\"\"\"#POTUS News: #Trump calls town hall an 'evening in paradise' #News\"\": https://t.co/IkoA2agNJ2\"                                                                                                                                                                                                           |0    |0            |RSS Post Syndication|24486               |0        |[#potus, #trump, #news]                                                                                                                                                                                                                                        |[9982, 968674, 13542]                                                                                                               |0.05875712  |\n",
      "|\"\"\"#POTUS News: #Trump casts doubt on hopes for quick stimulus deal after aides expressed optimism #News\"\": https://t.co/yqgkWg2vNE\"                                                                                                                                                                        |0    |0            |RSS Post Syndication|24475               |0        |[#potus, #trump, #news]                                                                                                                                                                                                                                        |[9982, 968674, 13542]                                                                                                               |0.05875712  |\n",
      "|\"\"\"#POTUS News: #Trump says he would accept peaceful transfer of power but casts doubt on election results #News\"\": https://t.co/jvGX8YVg2B\"                                                                                                                                                                |0    |0            |RSS Post Syndication|24486               |0        |[#potus, #trump, #news]                                                                                                                                                                                                                                        |[9982, 968674, 13542]                                                                                                               |0.05875712  |\n",
      "|\"\"\"#POTUS News: #Trump sticks to re-election rally strategy as COVID-19 roars back in U.S #News\"\": https://t.co/QcSwC7o4b4\"                                                                                                                                                                                 |0    |0            |RSS Post Syndication|24487               |0        |[#potus, #trump, #news]                                                                                                                                                                                                                                        |[9982, 968674, 13542]                                                                                                               |0.05875712  |\n",
      "+------------------------------------------------------------------------------------------------------------------------------------------------------------------------------------------------------------------------------------------------------------------------------------------------------------+-----+-------------+--------------------+--------------------+---------+---------------------------------------------------------------------------------------------------------------------------------------------------------------------------------------------------------------------------------------------------------------+------------------------------------------------------------------------------------------------------------------------------------+------------+\n"
     ]
    }
   ],
   "source": [
    "df.show(truncate=False)"
   ]
  },
  {
   "cell_type": "code",
   "execution_count": 17,
   "id": "aa0a2133",
   "metadata": {
    "ExecuteTime": {
     "end_time": "2024-05-12T02:57:17.892070600Z",
     "start_time": "2024-05-12T02:57:17.885826600Z"
    }
   },
   "outputs": [],
   "source": [
    "import re,string\n",
    "# This code defines a function named \"tokenize\" that tokenizes the input text.\n",
    "# It removes special characters, converts the text to lowercase, and removes stopwords and punctuation.\n",
    "# The resulting tokens are added to a list and returned.\n",
    "\n",
    "# This code defines a list of stopwords to be removed from the text.\n",
    "stopwords = [u'rt', u're', u'i', u'me', u'my', u'myself', u'we', u'our', u'ours', u'ourselves', u'you', u'your',\n",
    "             u'yours', u'yourself', u'yourselves', u'he', u'him', u'his', u'himself', u'she', u'her', u'hers',\n",
    "             u'herself', u'it', u'its', u'itself', u'they', u'them', u'their', u'theirs', u'themselves', u'what',\n",
    "             u'which', u'who', u'whom', u'this', u'that', u'these', u'those', u'am', u'is', u'are', u'was', u'were',\n",
    "             u'be', u'been', u'being', u'have', u'has', u'had', u'having', u'do', u'does', u'did', u'doing', u'a',\n",
    "             u'an', u'the', u'and', u'but', u'if', u'or', u'because', u'as', u'until', u'while', u'of', u'at', u'by',\n",
    "             u'for', u'with', u'about', u'against', u'between', u'into', u'through', u'during', u'before', u'after',\n",
    "             u'above', u'below', u'to', u'from', u'up', u'down', u'in', u'out', u'on', u'off', u'over', u'under',\n",
    "             u'again', u'further', u'then', u'once', u'here', u'there', u'when', u'where', u'why', u'how', u'all',\n",
    "             u'any', u'both', u'each', u'few', u'more', u'most', u'other', u'some', u'such', u'no', u'nor', u'not',\n",
    "             u'only', u'own', u'same', u'so', u'than', u'too', u'very', u's', u't', u'can', u'will', u'just', u'don',\n",
    "             u'should', u'now']\n",
    "def tokenize(text):\n",
    "    # Remove URLs\n",
    "    text = re.sub('http[s]?://(?:[a-zA-Z]|[0-9]|[$-_@.&+]|[!*(),]|(?:%[0-9a-fA-F][0-9a-fA-F]))+', '', text)\n",
    "    \n",
    "    # Remove special characters\n",
    "    text = re.sub('[%s]' % re.escape(string.punctuation), ' ', text)\n",
    "    \n",
    "    # Convert text to lowercase\n",
    "    text = text.lower()\n",
    "    \n",
    "    # Split text into tokens and filter out stopwords, single characters, and '``'\n",
    "    tokens = [word for word in text.split() if word not in stopwords and len(word) > 1 and word != '``']\n",
    "    \n",
    "    return tokens"
   ]
  },
  {
   "cell_type": "code",
   "execution_count": 18,
   "id": "7e6d4c3c",
   "metadata": {
    "ExecuteTime": {
     "end_time": "2024-05-12T02:57:19.244844600Z",
     "start_time": "2024-05-12T02:57:17.889140600Z"
    }
   },
   "outputs": [
    {
     "name": "stderr",
     "output_type": "stream",
     "text": [
      "[nltk_data] Downloading package vader_lexicon to C:\\Users\\ALLEN\n",
      "[nltk_data]     AN\\AppData\\Roaming\\nltk_data...\n",
      "[nltk_data]   Package vader_lexicon is already up-to-date!\n"
     ]
    }
   ],
   "source": [
    "import nltk\n",
    "nltk.download('vader_lexicon')\n",
    "from nltk.sentiment import SentimentIntensityAnalyzer\n",
    "sia = SentimentIntensityAnalyzer()\n",
    "sc.broadcast(sia)\n",
    "\n",
    "def calculate_sentiment(text):\n",
    "    #sia = SentimentIntensityAnalyzer()\n",
    "    if isinstance(text, list):\n",
    "        text = ' '.join(text)\n",
    "    sentiment_scores = sia.polarity_scores(text)['compound']\n",
    "\n",
    "    return sentiment_scores"
   ]
  },
  {
   "cell_type": "code",
   "execution_count": 19,
   "id": "b8d34651",
   "metadata": {
    "ExecuteTime": {
     "end_time": "2024-05-12T02:57:19.299908900Z",
     "start_time": "2024-05-12T02:57:19.244844600Z"
    }
   },
   "outputs": [],
   "source": [
    "from pyspark.sql.types import *\n",
    "\n",
    "# Define UDF to tokenize the tweet attribute\n",
    "@udf(returnType=FloatType())\n",
    "def polarize_tweet(text):\n",
    "    # Write code here to tokenize the tweet using the desired method/function\n",
    "    tokens = tokenize(text)\n",
    "    sent=calculate_sentiment(tokens)\n",
    "    return sent\n",
    "\n",
    "# Add a new column 'Tokens' to the DataFrame 'df' by calling the 'tokenize_tweet' UDF on the 'tweet' column\n",
    "df=df.withColumn('polarity', polarize_tweet(df['tweet']))"
   ]
  },
  {
   "cell_type": "code",
   "execution_count": 20,
   "id": "be272240",
   "metadata": {
    "ExecuteTime": {
     "end_time": "2024-05-12T02:57:49.213172300Z",
     "start_time": "2024-05-12T02:57:19.288189500Z"
    }
   },
   "outputs": [
    {
     "name": "stdout",
     "output_type": "stream",
     "text": [
      "+--------------------+-----+-------------+-------------------+--------------------+---------+--------------------+--------------------+-----------+--------+\n",
      "|               tweet|likes|retweet_count|             source|user_followers_count|President|            hashtags|      hashtag_counts|     TF_IDF|polarity|\n",
      "+--------------------+-----+-------------+-------------------+--------------------+---------+--------------------+--------------------+-----------+--------+\n",
      "| He’s nothing mor...|    0|            0|    Twitter Web App|                  71|        0|            [#trump]|            [968674]|  0.5288141|  0.0772|\n",
      "| it shows that #t...|    1|            0|Twitter for Android|                  11|        0|            [#trump]|            [968674]|  0.5288141|  -0.128|\n",
      "| media-sourced po...|    0|            0|Twitter for Android|                 657|        0|            [#biden]|            [631862]| -0.9560712|  0.7579|\n",
      "| mientras hace ca...|    0|            0| Twitter for iPhone|                  14|        1|[#electionday, #d...|[631862, 78352, 6...|-0.34601712|     0.0|\n",
      "| so Please get a ...|    0|            0|Twitter for Android|                 208|        0|             [#mask]|          [682, 682]|        0.0|  0.5994|\n",
      "+--------------------+-----+-------------+-------------------+--------------------+---------+--------------------+--------------------+-----------+--------+\n"
     ]
    }
   ],
   "source": [
    "df.show(5)"
   ]
  },
  {
   "cell_type": "code",
   "execution_count": 22,
   "outputs": [],
   "source": [
    "df=df.withColumn('mixF',df['TF_IDF']*df['polarity'])"
   ],
   "metadata": {
    "collapsed": false,
    "ExecuteTime": {
     "end_time": "2024-05-12T02:58:39.354847400Z",
     "start_time": "2024-05-12T02:58:39.328360700Z"
    }
   },
   "id": "2f4707b2d0f6db67"
  },
  {
   "cell_type": "code",
   "execution_count": 23,
   "outputs": [],
   "source": [
    "df=df.select('likes', 'retweet_count', 'user_followers_count','polarity','TF_IDF','mixF','President')"
   ],
   "metadata": {
    "collapsed": false,
    "ExecuteTime": {
     "end_time": "2024-05-12T02:59:03.170451200Z",
     "start_time": "2024-05-12T02:59:03.152629100Z"
    }
   },
   "id": "8dbbd4fd78b94523"
  },
  {
   "cell_type": "code",
   "execution_count": 24,
   "outputs": [
    {
     "name": "stdout",
     "output_type": "stream",
     "text": [
      "+-----+-------------+--------------------+--------+-----------+------------+---------+\n",
      "|likes|retweet_count|user_followers_count|polarity|     TF_IDF|        mixF|President|\n",
      "+-----+-------------+--------------------+--------+-----------+------------+---------+\n",
      "|    0|            0|                  71|  0.0772|  0.5288141| 0.040824447|        0|\n",
      "|    1|            0|                  11|  -0.128|  0.5288141|-0.067688204|        0|\n",
      "|    0|            0|                 657|  0.7579| -0.9560712| -0.72460634|        0|\n",
      "|    0|            0|                  14|     0.0|-0.34601712|        -0.0|        1|\n",
      "|    0|            0|                 208|  0.5994|        0.0|         0.0|        0|\n",
      "+-----+-------------+--------------------+--------+-----------+------------+---------+\n"
     ]
    }
   ],
   "source": [
    "df.show(5)"
   ],
   "metadata": {
    "collapsed": false,
    "ExecuteTime": {
     "end_time": "2024-05-12T02:59:32.240694Z",
     "start_time": "2024-05-12T02:59:04.416567100Z"
    }
   },
   "id": "4dba6dc8d3117126"
  },
  {
   "cell_type": "code",
   "execution_count": 25,
   "outputs": [],
   "source": [
    "df=df.drop(\"features\")\n",
    "df=df.drop(\"scaled_features\")"
   ],
   "metadata": {
    "collapsed": false,
    "ExecuteTime": {
     "end_time": "2024-05-12T03:07:14.190403400Z",
     "start_time": "2024-05-12T03:07:14.174868500Z"
    }
   },
   "id": "3446f018b8e3df17"
  },
  {
   "cell_type": "code",
   "execution_count": 26,
   "outputs": [],
   "source": [
    "#normalization\n",
    "from pyspark.ml.feature import StandardScaler, VectorAssembler\n",
    "\n",
    "# Assemble features into a vector\n",
    "standardVA = VectorAssembler(inputCols=['likes', 'retweet_count', 'user_followers_count','polarity','TF_IDF','mixF'], outputCol=\"features\")\n",
    "df = standardVA.transform(df)\n",
    "\n",
    "\n"
   ],
   "metadata": {
    "collapsed": false,
    "ExecuteTime": {
     "end_time": "2024-05-12T03:07:25.931776800Z",
     "start_time": "2024-05-12T03:07:25.778031500Z"
    }
   },
   "id": "66103c7e5d3f0a2d"
  },
  {
   "cell_type": "code",
   "execution_count": 27,
   "outputs": [],
   "source": [
    "# Initialize and fit the StandardScaler\n",
    "scaler = StandardScaler(inputCol=\"features\", outputCol=\"scaled_features\", withStd=True, withMean=False)\n",
    "scalerModel = scaler.fit(df)\n",
    "df=scalerModel.transform(df)\n",
    "\n"
   ],
   "metadata": {
    "collapsed": false,
    "ExecuteTime": {
     "end_time": "2024-05-12T03:08:38.972491800Z",
     "start_time": "2024-05-12T03:07:29.268237100Z"
    }
   },
   "id": "cbbf0951e787e995"
  },
  {
   "cell_type": "code",
   "execution_count": 28,
   "outputs": [
    {
     "name": "stdout",
     "output_type": "stream",
     "text": [
      "+-----+-------------+--------------------+--------+------------+------------+---------+-------------------------------------------------------------------------------+-------------------------------------------------------------------------------------------------------------+\n",
      "|likes|retweet_count|user_followers_count|polarity|TF_IDF      |mixF        |President|features                                                                       |scaled_features                                                                                              |\n",
      "+-----+-------------+--------------------+--------+------------+------------+---------+-------------------------------------------------------------------------------+-------------------------------------------------------------------------------------------------------------+\n",
      "|0    |0            |71                  |0.0772  |0.5288141   |0.040824447 |0        |[0.0,0.0,71.0,0.07720000296831131,0.5288140773773193,0.04082444682717323]      |[0.0,0.0,1.9663724743819338E-4,0.18262645031915758,0.6662966019784352,0.12262965365006978]                   |\n",
      "|1    |0            |11                  |-0.128  |0.5288141   |-0.067688204|0        |[1.0,0.0,11.0,-0.12800000607967377,0.5288140773773193,-0.06768820434808731]    |[0.003415502271234873,0.0,3.046492565943841E-5,-0.3028003348750745,0.6662966019784352,-0.20332378514621122]  |\n",
      "|0    |0            |657                 |0.7579  |-0.9560712  |-0.72460634 |0        |[0.0,0.0,657.0,0.7578999996185303,-0.9560711979866028,-0.7246063351631165]     |[0.0,0.0,0.0018195869234773668,1.7929090842656834,-1.2046331928743148,-2.1765934585684152]                   |\n",
      "|0    |0            |14                  |0.0     |-0.34601712 |-0.0        |1        |(6,[2,4],[14.0,-0.34601712226867676])                                          |(6,[2,4],[3.8773541748376156E-5,-0.4359755964466771])                                                        |\n",
      "|0    |0            |208                 |0.5994  |0.0         |0.0         |0        |(6,[2,3],[208.0,0.599399983882904])                                            |(6,[2,3],[5.760640488330172E-4,1.4179570876807899])                                                          |\n",
      "|117  |61           |14304               |0.0     |-0.2390178  |-0.0        |0        |[117.0,61.0,14304.0,0.0,-0.2390177994966507,0.0]                               |[0.39961376573448015,0.8375793646226711,0.039615481512055184,0.0,-0.3011582982185787,0.0]                    |\n",
      "|1    |0            |1480                |0.0     |0.2547197   |0.0         |0        |[1.0,0.0,1480.0,0.0,0.25471970438957214,0.0]                                   |[0.003415502271234873,0.0,0.004098917270542623,0.0,0.3209424271257167,0.0]                                   |\n",
      "|1    |0            |2324                |0.8689  |-0.020007255|-0.017384304|0        |[1.0,0.0,2324.0,0.8689000010490417,-0.02000725455582142,-0.017384303733706474] |[0.003415502271234873,0.0,0.006436407930230442,2.0554937405771176,-0.025208795105410197,-0.05221947415079408]|\n",
      "|0    |0            |23                  |0.0     |0.31276754  |0.0         |1        |(6,[2,4],[23.0,0.31276753544807434])                                           |(6,[2,4],[6.36993900151894E-5,0.39408169145528826])                                                          |\n",
      "|0    |0            |87                  |0.0     |-0.3013815  |-0.0        |1        |(6,[2,4],[87.0,-0.30138149857521057])                                          |(6,[2,4],[2.409498665791947E-4,-0.37973548169473154])                                                        |\n",
      "|0    |0            |0                   |0.0     |-0.46895343 |-0.0        |1        |(6,[4],[-0.4689534306526184])                                                  |(6,[4],[-0.5908732212267138])                                                                                |\n",
      "|80   |14           |6131                |0.0     |0.10681428  |0.0         |1        |[80.0,14.0,6131.0,0.0,0.10681428015232086,0.0]                                 |[0.27324018169878983,0.19223132958553107,0.016980041747092445,0.0,0.1345841477239699,0.0]                    |\n",
      "|1    |0            |24475               |0.0     |0.05875712  |0.0         |0        |[1.0,0.0,24475.0,0.0,0.05875711888074875,0.0]                                  |[0.003415502271234873,0.0,0.06778445959225046,0.0,0.0740329547323147,0.0]                                    |\n",
      "|0    |0            |24486               |-0.1531 |0.39844516  |-0.061001953|0        |[0.0,0.0,24486.0,-0.15309999883174896,0.39844515919685364,-0.06100195273756981]|[0.0,0.0,0.06781492451790991,-0.3621775680758253,0.5020340172566796,-0.1832394292531333]                     |\n",
      "|1    |0            |24480               |-0.7096 |0.29993415  |-0.21283327 |0        |[1.0,0.0,24480.0,-0.7095999717712402,0.29993414878845215,-0.21283327043056488] |[0.003415502271234873,0.0,0.06779830728573202,-1.6786492099534014,0.37791184596707816,-0.6393147309160736]   |\n",
      "|0    |0            |24470               |0.0     |0.05875712  |0.0         |0        |(6,[2,4],[24470.0,0.05875711888074875])                                        |(6,[2,4],[0.0677706118987689,0.0740329547323147])                                                            |\n",
      "|0    |0            |24486               |0.6369  |0.05875712  |0.03742241  |0        |[0.0,0.0,24486.0,0.636900007724762,0.05875711888074875,0.037422411143779755]   |[0.0,0.0,0.06781492451790991,1.5066681754761286,0.0740329547323147,0.11241052050845343]                      |\n",
      "|0    |0            |24475               |0.5859  |0.05875712  |0.034425795 |0        |[0.0,0.0,24475.0,0.5859000086784363,0.05875711888074875,0.03442579507827759]   |[0.0,0.0,0.06778445959225046,1.3860211750358045,0.0740329547323147,0.10340919853609616]                      |\n",
      "|0    |0            |24486               |0.5106  |0.05875712  |0.030001383 |0        |[0.0,0.0,24486.0,0.5105999708175659,0.05875711888074875,0.030001383274793625]  |[0.0,0.0,0.06781492451790991,1.207889334431165,0.0740329547323147,0.0901190224471606]                        |\n",
      "|0    |0            |24487               |0.0     |0.05875712  |0.0         |0        |(6,[2,4],[24487.0,0.05875711888074875])                                        |(6,[2,4],[0.06781769405660622,0.0740329547323147])                                                           |\n",
      "+-----+-------------+--------------------+--------+------------+------------+---------+-------------------------------------------------------------------------------+-------------------------------------------------------------------------------------------------------------+\n"
     ]
    }
   ],
   "source": [
    "df.show(truncate=False)"
   ],
   "metadata": {
    "collapsed": false,
    "ExecuteTime": {
     "end_time": "2024-05-12T03:09:18.317917900Z",
     "start_time": "2024-05-12T03:08:46.730402400Z"
    }
   },
   "id": "925f5199e550103"
  },
  {
   "cell_type": "code",
   "execution_count": 47,
   "outputs": [
    {
     "name": "stdout",
     "output_type": "stream",
     "text": [
      "Execution Started\n",
      "Sampling centroids\n",
      "Broadcast current centroids\n",
      "Assigning each point to the closest centroid\n",
      "Compute new centroids\n",
      "Calculating difference\n",
      "diff:\n",
      "0.8490392103778808\n",
      "Assigning Noise Points\n",
      "Removing Noise Points\n",
      "Execution Complete\n"
     ]
    }
   ],
   "source": [
    "from pyspark.sql.types import IntegerType\n",
    "from pyspark.sql import functions as F\n",
    "import numpy as np\n",
    "\n",
    "def dist(a, b):\n",
    "  return np.sqrt(np.sum((a - b)**2))\n",
    "\n",
    "def getCentroidDistances(point, centroids):\n",
    "    distances = []\n",
    "    \n",
    "    for centroid in centroids:\n",
    "        distances.append(dist(centroid, point))\n",
    "        \n",
    "    return distances\n",
    "\n",
    "def modified_kmeans(df, k, threshold, minDistance, SEED = 1):\n",
    "    #1. Get initial centroids\n",
    "    print(\"Execution Started\")\n",
    "    sample_fraction = k / df_count\n",
    "    print(\"Sampling centroids\")\n",
    "    centroids = df.select('TF_IDF').sample(fraction = sample_fraction, seed = SEED).limit(k).collect()\n",
    "\n",
    "    converged = False\n",
    "\n",
    "    while not converged:\n",
    "        #2. Broadcast current centroids\n",
    "        print(\"Broadcast current centroids\")\n",
    "        centroids_bc = sc.broadcast(np.array(centroids).squeeze())\n",
    "    \n",
    "        print(\"Assigning each point to the closest centroid\")\n",
    "        #3. Assign each data point to closest centroid\n",
    "        @udf(IntegerType())\n",
    "        def getClosestCentroid(value):\n",
    "            distances = []\n",
    "            centroids = centroids_bc.value\n",
    "\n",
    "            for centroid in centroids:\n",
    "                distances.append(dist(centroid, value))\n",
    "\n",
    "            return int(np.argmin(distances))\n",
    "\n",
    "        df = df.withColumn('closest', getClosestCentroid(df['TF_IDF']))\n",
    "        \n",
    "        df.persist()\n",
    "    \n",
    "        print(\"Compute new centroids\")\n",
    "        #4. Compute new centroids and bring back to driver\n",
    "        new_centroids_df = df.groupBy('closest') \\\n",
    "            .agg(F.avg('TF_IDF').alias('TF_IDF')) \\\n",
    "            .orderBy('closest')\n",
    "        \n",
    "        new_centroids = np.array(new_centroids_df.select('TF_IDF').collect()).squeeze()\n",
    "        \n",
    "        count = 0\n",
    "        diff = 0\n",
    "        cent_bc = centroids_bc.value\n",
    "        \n",
    "        print(\"Calculating difference\")\n",
    "        for c in new_centroids:\n",
    "            diff += dist(c, cent_bc[count])\n",
    "            count += 1\n",
    "        \n",
    "        print(\"diff:\")\n",
    "        print(diff)\n",
    "        \n",
    "        if diff < threshold:\n",
    "            converged = True\n",
    "        else:\n",
    "            centroids_bc.unpersist()\n",
    "            centroids = new_centroids\n",
    "        \n",
    "        df.unpersist()\n",
    "    \n",
    "    print(\"Assigning Noise Points\")\n",
    "    \n",
    "    @udf(IntegerType())\n",
    "    def isNoisePoint(value):\n",
    "        centroids = centroids_bc.value\n",
    "        distances = getCentroidDistances(value, centroids)\n",
    "        closestCentroid = int(np.argmin(distances))\n",
    "        \n",
    "        if distances[closestCentroid] < minDistance:\n",
    "            return 0\n",
    "        else:\n",
    "            return 1\n",
    "        \n",
    "    df = df.withColumn('is_noise_point', isNoisePoint(df['TF_IDF']))\n",
    "    \n",
    "    print(\"Removing Noise Points\")\n",
    "    df = df.filter(df['is_noise_point'] == 0)\n",
    "    \n",
    "    centroids_bc.unpersist()\n",
    "    \n",
    "    print(\"Execution Complete\")\n",
    "    return centroids, df\n",
    "\n",
    "k = 10\n",
    "threshold = 1\n",
    "minDistance = 5\n",
    "centroids, df = modified_kmeans(df, k, threshold, minDistance)"
   ],
   "metadata": {
    "collapsed": false,
    "ExecuteTime": {
     "end_time": "2024-05-12T04:31:53.433248700Z",
     "start_time": "2024-05-12T04:29:42.911061300Z"
    }
   },
   "id": "de1440b3c9d86abf"
  },
  {
   "cell_type": "code",
   "execution_count": 48,
   "outputs": [
    {
     "name": "stdout",
     "output_type": "stream",
     "text": [
      "+-----+-------------+--------------------+--------+-----------+------------+---------+--------------------+--------------------+------+--------------------+-------+--------------+\n",
      "|likes|retweet_count|user_followers_count|polarity|     TF_IDF|        mixF|President|            features|     scaled_features|kmeans|   features_clusters|closest|is_noise_point|\n",
      "+-----+-------------+--------------------+--------+-----------+------------+---------+--------------------+--------------------+------+--------------------+-------+--------------+\n",
      "|    0|            0|                  71|  0.0772|  0.5288141| 0.040824447|        0|[0.0,0.0,71.0,0.0...|[0.0,0.0,1.966372...|     1|[0.0,0.0,71.0,0.0...|      6|             0|\n",
      "|    1|            0|                  11|  -0.128|  0.5288141|-0.067688204|        0|[1.0,0.0,11.0,-0....|[0.00341550227123...|     0|[1.0,0.0,11.0,-0....|      6|             0|\n",
      "|    0|            0|                 657|  0.7579| -0.9560712| -0.72460634|        0|[0.0,0.0,657.0,0....|[0.0,0.0,0.001819...|     1|[0.0,0.0,657.0,0....|      2|             0|\n",
      "|    0|            0|                  14|     0.0|-0.34601712|        -0.0|        1|(6,[2,4],[14.0,-0...|(6,[2,4],[3.87735...|     1|[0.0,0.0,14.0,0.0...|      2|             0|\n",
      "|    0|            0|                 208|  0.5994|        0.0|         0.0|        0|(6,[2,3],[208.0,0...|(6,[2,3],[5.76064...|     1|[0.0,0.0,208.0,0....|      1|             0|\n",
      "+-----+-------------+--------------------+--------+-----------+------------+---------+--------------------+--------------------+------+--------------------+-------+--------------+\n"
     ]
    }
   ],
   "source": [
    "df.show(5)"
   ],
   "metadata": {
    "collapsed": false,
    "ExecuteTime": {
     "end_time": "2024-05-12T04:32:32.013789100Z",
     "start_time": "2024-05-12T04:31:53.433248700Z"
    }
   },
   "id": "3f98debbea46b42b"
  },
  {
   "cell_type": "code",
   "execution_count": 29,
   "outputs": [
    {
     "name": "stdout",
     "output_type": "stream",
     "text": [
      "Cluster Centers: \n",
      "[ 0.02165267  0.02082107  0.03532454 -1.07442557  0.6798879  -0.37396692]\n",
      "[ 0.03166947  0.02657655  0.08094743  0.46010063 -0.2040575   0.01487003]\n",
      "+-----+-------------+--------------------+--------+------------+------------+---------+--------------------+--------------------+------+\n",
      "|likes|retweet_count|user_followers_count|polarity|      TF_IDF|        mixF|President|            features|     scaled_features|kmeans|\n",
      "+-----+-------------+--------------------+--------+------------+------------+---------+--------------------+--------------------+------+\n",
      "|    0|            0|                  71|  0.0772|   0.5288141| 0.040824447|        0|[0.0,0.0,71.0,0.0...|[0.0,0.0,1.966372...|     1|\n",
      "|    1|            0|                  11|  -0.128|   0.5288141|-0.067688204|        0|[1.0,0.0,11.0,-0....|[0.00341550227123...|     0|\n",
      "|    0|            0|                 657|  0.7579|  -0.9560712| -0.72460634|        0|[0.0,0.0,657.0,0....|[0.0,0.0,0.001819...|     1|\n",
      "|    0|            0|                  14|     0.0| -0.34601712|        -0.0|        1|(6,[2,4],[14.0,-0...|(6,[2,4],[3.87735...|     1|\n",
      "|    0|            0|                 208|  0.5994|         0.0|         0.0|        0|(6,[2,3],[208.0,0...|(6,[2,3],[5.76064...|     1|\n",
      "|  117|           61|               14304|     0.0|  -0.2390178|        -0.0|        0|[117.0,61.0,14304...|[0.39961376573448...|     1|\n",
      "|    1|            0|                1480|     0.0|   0.2547197|         0.0|        0|[1.0,0.0,1480.0,0...|[0.00341550227123...|     1|\n",
      "|    1|            0|                2324|  0.8689|-0.020007255|-0.017384304|        0|[1.0,0.0,2324.0,0...|[0.00341550227123...|     1|\n",
      "|    0|            0|                  23|     0.0|  0.31276754|         0.0|        1|(6,[2,4],[23.0,0....|(6,[2,4],[6.36993...|     1|\n",
      "|    0|            0|                  87|     0.0|  -0.3013815|        -0.0|        1|(6,[2,4],[87.0,-0...|(6,[2,4],[2.40949...|     1|\n",
      "|    0|            0|                   0|     0.0| -0.46895343|        -0.0|        1|(6,[4],[-0.468953...|(6,[4],[-0.590873...|     1|\n",
      "|   80|           14|                6131|     0.0|  0.10681428|         0.0|        1|[80.0,14.0,6131.0...|[0.27324018169878...|     1|\n",
      "|    1|            0|               24475|     0.0|  0.05875712|         0.0|        0|[1.0,0.0,24475.0,...|[0.00341550227123...|     1|\n",
      "|    0|            0|               24486| -0.1531|  0.39844516|-0.061001953|        0|[0.0,0.0,24486.0,...|[0.0,0.0,0.067814...|     0|\n",
      "|    1|            0|               24480| -0.7096|  0.29993415| -0.21283327|        0|[1.0,0.0,24480.0,...|[0.00341550227123...|     0|\n",
      "|    0|            0|               24470|     0.0|  0.05875712|         0.0|        0|(6,[2,4],[24470.0...|(6,[2,4],[0.06777...|     1|\n",
      "|    0|            0|               24486|  0.6369|  0.05875712|  0.03742241|        0|[0.0,0.0,24486.0,...|[0.0,0.0,0.067814...|     1|\n",
      "|    0|            0|               24475|  0.5859|  0.05875712| 0.034425795|        0|[0.0,0.0,24475.0,...|[0.0,0.0,0.067784...|     1|\n",
      "|    0|            0|               24486|  0.5106|  0.05875712| 0.030001383|        0|[0.0,0.0,24486.0,...|[0.0,0.0,0.067814...|     1|\n",
      "|    0|            0|               24487|     0.0|  0.05875712|         0.0|        0|(6,[2,4],[24487.0...|(6,[2,4],[0.06781...|     1|\n",
      "+-----+-------------+--------------------+--------+------------+------------+---------+--------------------+--------------------+------+\n",
      "only showing top 20 rows\n"
     ]
    }
   ],
   "source": [
    "#kmeans\n",
    "from pyspark.ml.clustering import KMeans\n",
    "kmeans = KMeans().setK(2).setSeed(1).setFeaturesCol(('scaled_features')).setPredictionCol(\"kmeans\")\n",
    "kmModel = kmeans.fit(df)\n",
    "\n",
    "# Cluster Centers\n",
    "centers = kmModel.clusterCenters()\n",
    "print(\"Cluster Centers: \")\n",
    "for center in centers:\n",
    "    print(center)\n",
    "\n",
    "df = kmModel.transform(df)\n",
    "df.show()"
   ],
   "metadata": {
    "collapsed": false,
    "ExecuteTime": {
     "end_time": "2024-05-12T03:15:20.146174100Z",
     "start_time": "2024-05-12T03:09:18.316896Z"
    }
   },
   "id": "fbe4ec264f7f4249"
  },
  {
   "cell_type": "code",
   "execution_count": 46,
   "outputs": [
    {
     "data": {
      "text/plain": "<Figure size 800x600 with 2 Axes>",
      "image/png": "[encoded data removed]"
     },
     "metadata": {},
     "output_type": "display_data"
    }
   ],
   "source": [
    "import matplotlib.pyplot as plt\n",
    "\n",
    "results=df.select(\"features\", \"kmeans\").collect()\n",
    "# 解析聚类结果\n",
    "x_coords = [item[\"features\"][3] for item in results]\n",
    "y_coords = [item[\"features\"][4] for item in results]\n",
    "clusters = [item[\"kmeans\"] for item in results]\n",
    "\n",
    "# 绘制散点图\n",
    "plt.figure(figsize=(8, 6))\n",
    "plt.scatter(x_coords, y_coords, c=clusters, cmap='viridis', marker='o')\n",
    "plt.title(\"K-means Clustering\")\n",
    "plt.xlabel(\"polarity\")\n",
    "plt.ylabel(\"tf_idf\")\n",
    "plt.colorbar(label='Cluster ID')\n",
    "plt.show()"
   ],
   "metadata": {
    "collapsed": false,
    "ExecuteTime": {
     "end_time": "2024-05-12T03:52:18.351199500Z",
     "start_time": "2024-05-12T03:50:29.154588900Z"
    }
   },
   "id": "e3d420434d11b0b2"
  },
  {
   "cell_type": "code",
   "execution_count": 37,
   "outputs": [
    {
     "data": {
      "text/plain": "<Figure size 800x600 with 2 Axes>",
      "image/png": "[encoded data removed]"
     },
     "metadata": {},
     "output_type": "display_data"
    }
   ],
   "source": [
    "# 解析聚类结果\n",
    "x_coords = [item[\"features\"][3] for item in results]\n",
    "y_coords = [item[\"features\"][5] for item in results]\n",
    "clusters = [item[\"kmeans\"] for item in results]\n",
    "\n",
    "# 绘制散点图\n",
    "plt.figure(figsize=(8, 6))\n",
    "plt.scatter(x_coords, y_coords, c=clusters, cmap='viridis', marker='o')\n",
    "plt.title(\"K-means Clustering\")\n",
    "plt.xlabel(\"polarity\")\n",
    "plt.ylabel(\"mixF\")\n",
    "plt.colorbar(label='Cluster ID')\n",
    "plt.show()"
   ],
   "metadata": {
    "collapsed": false,
    "ExecuteTime": {
     "end_time": "2024-05-12T03:31:43.672645400Z",
     "start_time": "2024-05-12T03:31:16.236684800Z"
    }
   },
   "id": "7ad3631cb14e07ef"
  },
  {
   "cell_type": "code",
   "execution_count": 35,
   "outputs": [
    {
     "name": "stdout",
     "output_type": "stream",
     "text": [
      "+-------------------------------------------------------------------------------+------+\n",
      "|features                                                                       |kmeans|\n",
      "+-------------------------------------------------------------------------------+------+\n",
      "|[0.0,0.0,71.0,0.07720000296831131,0.5288140773773193,0.04082444682717323]      |1     |\n",
      "|[1.0,0.0,11.0,-0.12800000607967377,0.5288140773773193,-0.06768820434808731]    |0     |\n",
      "|[0.0,0.0,657.0,0.7578999996185303,-0.9560711979866028,-0.7246063351631165]     |1     |\n",
      "|(6,[2,4],[14.0,-0.34601712226867676])                                          |1     |\n",
      "|(6,[2,3],[208.0,0.599399983882904])                                            |1     |\n",
      "|[117.0,61.0,14304.0,0.0,-0.2390177994966507,0.0]                               |1     |\n",
      "|[1.0,0.0,1480.0,0.0,0.25471970438957214,0.0]                                   |1     |\n",
      "|[1.0,0.0,2324.0,0.8689000010490417,-0.02000725455582142,-0.017384303733706474] |1     |\n",
      "|(6,[2,4],[23.0,0.31276753544807434])                                           |1     |\n",
      "|(6,[2,4],[87.0,-0.30138149857521057])                                          |1     |\n",
      "|(6,[4],[-0.4689534306526184])                                                  |1     |\n",
      "|[80.0,14.0,6131.0,0.0,0.10681428015232086,0.0]                                 |1     |\n",
      "|[1.0,0.0,24475.0,0.0,0.05875711888074875,0.0]                                  |1     |\n",
      "|[0.0,0.0,24486.0,-0.15309999883174896,0.39844515919685364,-0.06100195273756981]|0     |\n",
      "|[1.0,0.0,24480.0,-0.7095999717712402,0.29993414878845215,-0.21283327043056488] |0     |\n",
      "|(6,[2,4],[24470.0,0.05875711888074875])                                        |1     |\n",
      "|[0.0,0.0,24486.0,0.636900007724762,0.05875711888074875,0.037422411143779755]   |1     |\n",
      "|[0.0,0.0,24475.0,0.5859000086784363,0.05875711888074875,0.03442579507827759]   |1     |\n",
      "|[0.0,0.0,24486.0,0.5105999708175659,0.05875711888074875,0.030001383274793625]  |1     |\n",
      "|(6,[2,4],[24487.0,0.05875711888074875])                                        |1     |\n",
      "+-------------------------------------------------------------------------------+------+\n"
     ]
    }
   ],
   "source": [
    "df.select(\"features\", \"kmeans\").show(truncate=False)"
   ],
   "metadata": {
    "collapsed": false,
    "ExecuteTime": {
     "end_time": "2024-05-12T03:25:01.223116900Z",
     "start_time": "2024-05-12T03:24:31.973603900Z"
    }
   },
   "id": "323304cb8513074c"
  },
  {
   "cell_type": "code",
   "execution_count": 39,
   "outputs": [
    {
     "name": "stdout",
     "output_type": "stream",
     "text": [
      "['likes', 'retweet_count', 'user_followers_count', 'polarity', 'TF_IDF', 'kmeans']\n",
      "+-----+-------------+--------------------+--------+-----------+------------+---------+--------------------+--------------------+------+--------------------+\n",
      "|likes|retweet_count|user_followers_count|polarity|     TF_IDF|        mixF|President|            features|     scaled_features|kmeans|   features_clusters|\n",
      "+-----+-------------+--------------------+--------+-----------+------------+---------+--------------------+--------------------+------+--------------------+\n",
      "|    0|            0|                  71|  0.0772|  0.5288141| 0.040824447|        0|[0.0,0.0,71.0,0.0...|[0.0,0.0,1.966372...|     1|[0.0,0.0,71.0,0.0...|\n",
      "|    1|            0|                  11|  -0.128|  0.5288141|-0.067688204|        0|[1.0,0.0,11.0,-0....|[0.00341550227123...|     0|[1.0,0.0,11.0,-0....|\n",
      "|    0|            0|                 657|  0.7579| -0.9560712| -0.72460634|        0|[0.0,0.0,657.0,0....|[0.0,0.0,0.001819...|     1|[0.0,0.0,657.0,0....|\n",
      "|    0|            0|                  14|     0.0|-0.34601712|        -0.0|        1|(6,[2,4],[14.0,-0...|(6,[2,4],[3.87735...|     1|[0.0,0.0,14.0,0.0...|\n",
      "|    0|            0|                 208|  0.5994|        0.0|         0.0|        0|(6,[2,3],[208.0,0...|(6,[2,3],[5.76064...|     1|[0.0,0.0,208.0,0....|\n",
      "+-----+-------------+--------------------+--------+-----------+------------+---------+--------------------+--------------------+------+--------------------+\n",
      "only showing top 5 rows\n"
     ]
    }
   ],
   "source": [
    "\n",
    "#feature_columns_xgb = ['scaled_features']\n",
    "feature_columns_xgb=['likes', 'retweet_count', 'user_followers_count','polarity','TF_IDF','kmeans']\n",
    "#feature_columns_xgb = ['scaled_features','kmeans']\n",
    "#feature_columns_xgb = ['kmeans']\n",
    "#feature_columns=df.columns\n",
    "print(feature_columns_xgb)\n",
    "assemblerXGB = VectorAssembler(inputCols=feature_columns_xgb, outputCol=\"features_clusters\")\n",
    "df = assemblerXGB.transform(df)\n",
    "df.show(5)"
   ],
   "metadata": {
    "collapsed": false,
    "ExecuteTime": {
     "end_time": "2024-05-12T03:36:59.540279700Z",
     "start_time": "2024-05-12T03:36:29.225685900Z"
    }
   },
   "id": "5cbdab1487319914"
  },
  {
   "cell_type": "code",
   "execution_count": 40,
   "id": "b44d6aa4",
   "metadata": {
    "ExecuteTime": {
     "end_time": "2024-05-12T03:36:59.682703400Z",
     "start_time": "2024-05-12T03:36:59.541256100Z"
    }
   },
   "outputs": [
    {
     "data": {
      "text/plain": "DataFrame[likes: int, retweet_count: int, user_followers_count: int, polarity: float, TF_IDF: float, mixF: float, President: int, features: vector, scaled_features: vector, kmeans: int, features_clusters: vector]"
     },
     "execution_count": 40,
     "metadata": {},
     "output_type": "execute_result"
    }
   ],
   "source": [
    "seed = 654321\n",
    "train_df, test_df = df.randomSplit([0.7, 0.3], seed=seed)\n",
    "train_df.cache()\n",
    "test_df.cache()"
   ]
  },
  {
   "cell_type": "code",
   "execution_count": 41,
   "outputs": [],
   "source": [
    "\n",
    "from xgboost.spark import SparkXGBClassifier\n",
    "\n",
    "# Initialize the XGBoost classifier\n",
    "xgb = SparkXGBClassifier(\n",
    "    enable_sparse_data_optim=True,\n",
    "    missing=0.0,\n",
    "    features_col='features_clusters',\n",
    "    label_col=\"President\",\n",
    "    prediction_col=\"prediction\",\n",
    "    numRound=100,\n",
    "    learning_rate=0.15,\n",
    "    maxDepth=7,\n",
    "    alpha=0.0,\n",
    "    device='cuda'\n",
    ")\n",
    "\n",
    "\n"
   ],
   "metadata": {
    "collapsed": false,
    "ExecuteTime": {
     "end_time": "2024-05-12T03:37:00.435527600Z",
     "start_time": "2024-05-12T03:36:59.682703400Z"
    }
   },
   "id": "a4a54df28bbb10c4"
  },
  {
   "cell_type": "code",
   "execution_count": 42,
   "outputs": [
    {
     "name": "stderr",
     "output_type": "stream",
     "text": [
      "2024-05-12 04:37:00,438 WARNING SparkXGBClassifier: _validate_gpu_params You have enabled GPU in spark local mode. Please make sure your local node has at least 1 GPUs\n",
      "2024-05-12 04:38:12,378 INFO XGBoost-PySpark: _fit Running xgboost-2.0.3 on 1 workers with\n",
      "\tbooster params: {'objective': 'binary:logistic', 'device': 'cuda', 'learning_rate': 0.15, 'numRound': 100, 'maxDepth': 7, 'alpha': 0.0, 'nthread': 1}\n",
      "\ttrain_call_kwargs_params: {'verbose_eval': True, 'num_boost_round': 100}\n",
      "\tdmatrix_kwargs: {'nthread': 1, 'missing': 0.0}\n",
      "2024-05-12 04:38:12,722 INFO SparkXGBClassifier: _skip_stage_level_scheduling Stage-level scheduling in xgboost requires spark standalone or local-cluster mode\n",
      "2024-05-12 04:38:19,321 INFO XGBoost-PySpark: _fit Finished xgboost training!\n"
     ]
    }
   ],
   "source": [
    "from pyspark.ml import Pipeline\n",
    "\n",
    "# Set up the pipeline\n",
    "pipeline = Pipeline(stages=[xgb])\n",
    "\n",
    "# Train the model\n",
    "model = pipeline.fit(train_df)"
   ],
   "metadata": {
    "collapsed": false,
    "ExecuteTime": {
     "end_time": "2024-05-12T03:38:19.374056800Z",
     "start_time": "2024-05-12T03:37:00.436536100Z"
    }
   },
   "id": "d90761fc6afc50c4"
  },
  {
   "cell_type": "code",
   "execution_count": 44,
   "outputs": [],
   "source": [
    "from numpy import array\n",
    "#feature importance func\n",
    "def get_xgb_imp(model, feat_names):\n",
    "    booster=model.stages[0].get_booster()\n",
    "    imp_vals = booster.get_fscore()\n",
    "    imp_dict = {feat_names[int(k[1:])] : v for k, v in imp_vals.items()}  # 适配特征名\n",
    "    values_array = array(list(imp_dict.values()))  # 转换为 numpy 数组\n",
    "    total = values_array.sum()  # 计算总和\n",
    "    return {k: v / total for k, v in imp_dict.items()}  # 归一化特征重要性并返回"
   ],
   "metadata": {
    "collapsed": false,
    "ExecuteTime": {
     "end_time": "2024-05-12T03:45:10.751277800Z",
     "start_time": "2024-05-12T03:45:10.738054200Z"
    }
   },
   "id": "3b3dc2ec4a951c6c"
  },
  {
   "cell_type": "code",
   "execution_count": 45,
   "outputs": [
    {
     "name": "stdout",
     "output_type": "stream",
     "text": [
      "{'likes': 0.07608695652173914, 'retweet_count': 0.058953574060427415, 'user_followers_count': 0.23507737656595432, 'polarity': 0.21518054532056005, 'TF_IDF': 0.41396462785556376, 'kmeans': 0.0007369196757553427}\n"
     ]
    },
    {
     "data": {
      "text/plain": "<Figure size 640x480 with 1 Axes>",
      "image/png": "[encoded data removed]"
     },
     "metadata": {},
     "output_type": "display_data"
    }
   ],
   "source": [
    "import matplotlib.pyplot as plt\n",
    "\n",
    "feat_names = ['likes', 'retweet_count', 'user_followers_count','polarity','TF_IDF','kmeans']\n",
    "imp_dict =get_xgb_imp(model,feat_names)\n",
    "print(imp_dict)\n",
    "# 绘图\n",
    "fig, ax = plt.subplots()\n",
    "features = list(imp_dict.keys())\n",
    "importances = list(imp_dict.values())\n",
    "y_pos = range(len(features))\n",
    "ax.barh(y_pos, importances, align='center')\n",
    "ax.set_yticks(y_pos)\n",
    "ax.set_yticklabels(features)\n",
    "ax.invert_yaxis()  # 标签从上到下读\n",
    "ax.set_xlabel('Importance')\n",
    "ax.set_title('Feature Importance')\n",
    "\n",
    "plt.show()"
   ],
   "metadata": {
    "collapsed": false,
    "ExecuteTime": {
     "end_time": "2024-05-12T03:45:11.786357Z",
     "start_time": "2024-05-12T03:45:11.716917800Z"
    }
   },
   "id": "a4defc802644ad38"
  },
  {
   "cell_type": "code",
   "execution_count": 43,
   "outputs": [
    {
     "name": "stdout",
     "output_type": "stream",
     "text": [
      "Test Accuracy: 0.8567089994319566\n"
     ]
    }
   ],
   "source": [
    "from pyspark.ml.evaluation import MulticlassClassificationEvaluator\n",
    "\n",
    "# Make predictions\n",
    "predictions = model.transform(test_df)\n",
    "\n",
    "# Evaluate the model\n",
    "evaluator = MulticlassClassificationEvaluator(labelCol=\"President\", predictionCol=\"prediction\", metricName=\"accuracy\")\n",
    "accuracy = evaluator.evaluate(predictions)\n",
    "print(f\"Test Accuracy: {accuracy}\")\n"
   ],
   "metadata": {
    "collapsed": false,
    "ExecuteTime": {
     "end_time": "2024-05-12T03:39:59.627966700Z",
     "start_time": "2024-05-12T03:38:19.376010400Z"
    }
   },
   "id": "60bb7c3ce09b12a3"
  },
  {
   "cell_type": "code",
   "execution_count": null,
   "outputs": [],
   "source": [
    "from pyspark.ml.tuning import ParamGridBuilder\n",
    "\n",
    "paramGrid = ParamGridBuilder() \\\n",
    "    .addGrid(xgb.max_depth, [3, 5, 7]) \\\n",
    "    .addGrid(xgb.learning_rate, [0.15, 0.01, 0.001]) \\\n",
    "    .build()\n",
    "\n"
   ],
   "metadata": {
    "collapsed": false,
    "ExecuteTime": {
     "start_time": "2024-05-11T23:59:41.958246800Z"
    }
   },
   "id": "dc475f0ff4120eb"
  },
  {
   "cell_type": "code",
   "execution_count": null,
   "outputs": [],
   "source": [
    "from pyspark.ml.evaluation import MulticlassClassificationEvaluator\n",
    "\n",
    "evaluator = MulticlassClassificationEvaluator(labelCol=\"President\")"
   ],
   "metadata": {
    "collapsed": false,
    "ExecuteTime": {
     "start_time": "2024-05-11T23:59:41.958246800Z"
    }
   },
   "id": "132190cc1f33f8fe"
  },
  {
   "cell_type": "code",
   "execution_count": null,
   "outputs": [],
   "source": [
    "from pyspark.ml.tuning import CrossValidator\n",
    "\n",
    "cv = CrossValidator(\n",
    "    estimator=xgb,\n",
    "    estimatorParamMaps=paramGrid,\n",
    "    evaluator=evaluator,\n",
    "    numFolds=3  \n",
    ")\n",
    "\n"
   ],
   "metadata": {
    "collapsed": false,
    "ExecuteTime": {
     "start_time": "2024-05-11T23:59:41.959227900Z"
    }
   },
   "id": "21c7255d8c910d73"
  },
  {
   "cell_type": "code",
   "execution_count": null,
   "outputs": [],
   "source": [
    "cvModel = cv.fit(df)"
   ],
   "metadata": {
    "collapsed": false,
    "ExecuteTime": {
     "start_time": "2024-05-11T23:59:41.960204900Z"
    }
   },
   "id": "a1ca29187de36e29"
  },
  {
   "cell_type": "code",
   "execution_count": null,
   "outputs": [],
   "source": [
    "print(cvModel.bestModel.getOrDefault('learning_rate'),cvModel.bestModel.getOrDefault('max_depth'))\n"
   ],
   "metadata": {
    "collapsed": false,
    "ExecuteTime": {
     "start_time": "2024-05-11T23:59:41.960204900Z"
    }
   },
   "id": "1c2d690c75158cb3"
  }
 ],
 "metadata": {
  "kernelspec": {
   "display_name": "Python 3 (ipykernel)",
   "language": "python",
   "name": "python3"
  },
  "language_info": {
   "codemirror_mode": {
    "name": "ipython",
    "version": 3
   },
   "file_extension": ".py",
   "mimetype": "text/x-python",
   "name": "python",
   "nbconvert_exporter": "python",
   "pygments_lexer": "ipython3",
   "version": "3.9.12"
  }
 },
 "nbformat": 4,
 "nbformat_minor": 5
}
